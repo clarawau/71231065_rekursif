{
 "cells": [
  {
   "cell_type": "code",
   "execution_count": 8,
   "id": "d7e486b2",
   "metadata": {},
   "outputs": [
    {
     "name": "stdout",
     "output_type": "stream",
     "text": [
      "5 bil prima\n"
     ]
    }
   ],
   "source": [
    "def primaa(n, pembagi=2):\n",
    "    if n <= 2:\n",
    "        return n == 2\n",
    "    if n % pembagi == 0:\n",
    "        return False\n",
    "    if pembagi * pembagi > n:\n",
    "        return True\n",
    "    return primaa(n, pembagi + 1)\n",
    "angka = 5\n",
    "if primaa(angka):\n",
    "    print(angka, \"bil prima\")\n",
    "else:\n",
    "    print(angka, \"bukan prima\")\n"
   ]
  },
  {
   "cell_type": "code",
   "execution_count": 17,
   "id": "7ed71d4d",
   "metadata": {},
   "outputs": [
    {
     "name": "stdout",
     "output_type": "stream",
     "text": [
      "Palindrom\n"
     ]
    }
   ],
   "source": [
    "def palindrome(s):\n",
    "    s = ''.join(char.lower() for char in s if char.isalpha())\n",
    "    if len(s) <= 1:\n",
    "        return True\n",
    "    if s[0] != s[-1]:\n",
    "        return False\n",
    "    return palindrome(s[1:-1])\n",
    "\n",
    "kalimat = \"l@12ev!el\"\n",
    "if palindrome(kalimat):\n",
    "    print(\"Palindrom\")\n",
    "else:\n",
    "    print(\"Bukan Palindrom\")\n"
   ]
  },
  {
   "cell_type": "code",
   "execution_count": 27,
   "id": "d2c3740d",
   "metadata": {},
   "outputs": [
    {
     "name": "stdout",
     "output_type": "stream",
     "text": [
      "Jumlah deret ganjil dari 1 + 3 + 7 + ... + n! sampai n = 6 adalah: 14664\n"
     ]
    }
   ],
   "source": [
    "def deretganjil(n, total=1, fakt=1):\n",
    "    if n == 1:\n",
    "        return total\n",
    "    else:\n",
    "        fakt = fakt * (2 * (n - 1) + 1)\n",
    "        total = total + fakt\n",
    "        return deretganjil(n - 1, total, fakt)\n",
    "n = 6\n",
    "hasil = deretganjil(n)\n",
    "print(\"Jumlah deret ganjil dari 1 + 3 + 7 + ... + n! sampai n =\", n, \"adalah:\", hasil)"
   ]
  },
  {
   "cell_type": "code",
   "execution_count": 38,
   "id": "9f0356e5",
   "metadata": {},
   "outputs": [
    {
     "name": "stdout",
     "output_type": "stream",
     "text": [
      "Jumlah digit dari bilangan 12345 adalah: 15\n"
     ]
    }
   ],
   "source": [
    "def digit(i):\n",
    "    if i < 0:\n",
    "        i = -i\n",
    "    if i < 10:\n",
    "        return i\n",
    "    return i % 10 + digit(i // 10)\n",
    "bilangan = 12345\n",
    "hasil = digit(bilangan)\n",
    "print(\"Jumlah digit dari bilangan\", bilangan, \"adalah:\", hasil)"
   ]
  },
  {
   "cell_type": "code",
   "execution_count": 34,
   "id": "7cabbc9c",
   "metadata": {},
   "outputs": [
    {
     "name": "stdout",
     "output_type": "stream",
     "text": [
      "Kombinasi dari C( 7 , 2 ) adalah: 21\n"
     ]
    }
   ],
   "source": [
    "def kombinasi(n, k):\n",
    "    if k == 0 or k == n:\n",
    "        return 1\n",
    "    return kombinasi(n - 1, k - 1) + kombinasi(n - 1, k)\n",
    "n = 7\n",
    "k = 2\n",
    "hasil = kombinasi(n, k)\n",
    "print(\"Kombinasi dari C(\", n, \",\", k, \") adalah:\", hasil)"
   ]
  },
  {
   "cell_type": "code",
   "execution_count": null,
   "id": "89818a73",
   "metadata": {},
   "outputs": [],
   "source": []
  }
 ],
 "metadata": {
  "kernelspec": {
   "display_name": "Python 3 (ipykernel)",
   "language": "python",
   "name": "python3"
  },
  "language_info": {
   "codemirror_mode": {
    "name": "ipython",
    "version": 3
   },
   "file_extension": ".py",
   "mimetype": "text/x-python",
   "name": "python",
   "nbconvert_exporter": "python",
   "pygments_lexer": "ipython3",
   "version": "3.11.5"
  }
 },
 "nbformat": 4,
 "nbformat_minor": 5
}
